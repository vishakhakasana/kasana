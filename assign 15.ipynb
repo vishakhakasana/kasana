{
 "cells": [
  {
   "cell_type": "code",
   "execution_count": 1,
   "id": "83c86553",
   "metadata": {},
   "outputs": [
    {
     "data": {
      "text/plain": [
       "3600"
      ]
     },
     "execution_count": 1,
     "metadata": {},
     "output_type": "execute_result"
    }
   ],
   "source": [
    "# 1.How many seconds are in an hour? Use the interactive interpreter as a calculator and multiply the\n",
    "# number of seconds in a minute (60) by the number of minutes in an hour (also 60).\n",
    "\n",
    "60*60"
   ]
  },
  {
   "cell_type": "code",
   "execution_count": 2,
   "id": "d7521d85",
   "metadata": {},
   "outputs": [
    {
     "data": {
      "text/plain": [
       "3600"
      ]
     },
     "execution_count": 2,
     "metadata": {},
     "output_type": "execute_result"
    }
   ],
   "source": [
    "# 2. Assign the result from the previous task (seconds in an hour) to a variable called\n",
    "# seconds_per_hour.\n",
    "\n",
    "seconds_per_hour=60*60\n",
    "seconds_per_hour"
   ]
  },
  {
   "cell_type": "code",
   "execution_count": 3,
   "id": "18e098ab",
   "metadata": {},
   "outputs": [
    {
     "data": {
      "text/plain": [
       "86400"
      ]
     },
     "execution_count": 3,
     "metadata": {},
     "output_type": "execute_result"
    }
   ],
   "source": [
    "# 3. How many seconds do you think there are in a day? Make use of the variables seconds per hour\n",
    "# and minutes per hour.\n",
    "\n",
    "seconds_per_hour*24"
   ]
  },
  {
   "cell_type": "code",
   "execution_count": 6,
   "id": "72ae2e03",
   "metadata": {},
   "outputs": [
    {
     "data": {
      "text/plain": [
       "86400"
      ]
     },
     "execution_count": 6,
     "metadata": {},
     "output_type": "execute_result"
    }
   ],
   "source": [
    "# 4. Calculate seconds per day again, but this time save the result in a variable called seconds_per_day\n",
    "\n",
    "seconds_per_day=seconds_per_day*24\n",
    "seconds_per_day"
   ]
  },
  {
   "cell_type": "code",
   "execution_count": 8,
   "id": "9ca2f125",
   "metadata": {},
   "outputs": [
    {
     "data": {
      "text/plain": [
       "24.0"
      ]
     },
     "execution_count": 8,
     "metadata": {},
     "output_type": "execute_result"
    }
   ],
   "source": [
    "# 5. Divide seconds_per_day by seconds_per_hour. Use floating-point (/) division.\n",
    "\n",
    "div=seconds_per_day/seconds_per_hour\n",
    "div"
   ]
  },
  {
   "cell_type": "code",
   "execution_count": 10,
   "id": "b58a2128",
   "metadata": {},
   "outputs": [
    {
     "data": {
      "text/plain": [
       "24"
      ]
     },
     "execution_count": 10,
     "metadata": {},
     "output_type": "execute_result"
    }
   ],
   "source": [
    "# 6. Divide seconds_per_day by seconds_per_hour, using integer (//) division. Did this number agree\n",
    "# with the floating-point value from the previous question, aside from the final .0?\n",
    "\n",
    "div=seconds_per_day//seconds_per_hour\n",
    "div"
   ]
  },
  {
   "cell_type": "code",
   "execution_count": 15,
   "id": "437902d5",
   "metadata": {},
   "outputs": [],
   "source": [
    "# 7. Write a generator, genPrimes, that returns the sequence of prime numbers on successive calls to\n",
    "# its next() method: 2, 3, 5, 7, 11, ...\n",
    "\n",
    "def genPrimes():\n",
    "    n = 2\n",
    "    primes = []\n",
    "    while True:\n",
    "        for i in primes:\n",
    "            if n % i== 0:\n",
    "                break\n",
    "        else:\n",
    "            primes.append(n)\n",
    "            yield n\n",
    "        n += 1"
   ]
  },
  {
   "cell_type": "code",
   "execution_count": null,
   "id": "35407682",
   "metadata": {},
   "outputs": [],
   "source": []
  }
 ],
 "metadata": {
  "kernelspec": {
   "display_name": "Python 3 (ipykernel)",
   "language": "python",
   "name": "python3"
  },
  "language_info": {
   "codemirror_mode": {
    "name": "ipython",
    "version": 3
   },
   "file_extension": ".py",
   "mimetype": "text/x-python",
   "name": "python",
   "nbconvert_exporter": "python",
   "pygments_lexer": "ipython3",
   "version": "3.9.7"
  }
 },
 "nbformat": 4,
 "nbformat_minor": 5
}
