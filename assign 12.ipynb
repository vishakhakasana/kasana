{
 "cells": [
  {
   "cell_type": "code",
   "execution_count": null,
   "id": "9bd0a994",
   "metadata": {},
   "outputs": [],
   "source": [
    "# in what modes should the PdfFileReader() and PdfFileWriter() File objects will be opened?\n",
    "\n",
    "Read-binary ('rb') for PdfFileReader() and write-binary ('wb') for PdfFileWriter()"
   ]
  },
  {
   "cell_type": "code",
   "execution_count": null,
   "id": "76acf485",
   "metadata": {},
   "outputs": [],
   "source": [
    "# 2. From a PdfFileReader object, how do you get a Page object for page 5?\n",
    "Calling getPage(4) will return a Page object for page 5, since page 0 is the first page."
   ]
  },
  {
   "cell_type": "code",
   "execution_count": null,
   "id": "e5980218",
   "metadata": {},
   "outputs": [],
   "source": [
    "# What PdfFileReader variable stores the number of pages in the PDF document?\n",
    "The numPages variable stores an integer of the number of pages in the PdfFileReader object."
   ]
  },
  {
   "cell_type": "code",
   "execution_count": null,
   "id": "583aed2a",
   "metadata": {},
   "outputs": [],
   "source": [
    "# If a PdfFileReader object’s PDF is encrypted with the password swordfish, what must you do before you can obtain Page objects from it?\n",
    "  Call decrypt('swordfish')."
   ]
  },
  {
   "cell_type": "code",
   "execution_count": null,
   "id": "acfe9003",
   "metadata": {},
   "outputs": [],
   "source": [
    "# What methods do you use to rotate a page?\n",
    "The rotateClockwise() and rotateCounterClockwise() methods. The degrees to rotate is passed as an integer argument."
   ]
  },
  {
   "cell_type": "code",
   "execution_count": null,
   "id": "c0884143",
   "metadata": {},
   "outputs": [],
   "source": [
    "# What is the difference between a Run object and a Paragraph object?\n",
    "A document contains multiple paragraphs.\n",
    "A paragraph begins on a new line and contains multiple runs.\n",
    "Runs are contiguous groups of characters within a paragraph."
   ]
  },
  {
   "cell_type": "code",
   "execution_count": null,
   "id": "7832387c",
   "metadata": {},
   "outputs": [],
   "source": [
    "# How do you obtain a list of Paragraph objects for a Document object that’s stored in a variable named doc?\n",
    "Use doc.paragraphs."
   ]
  },
  {
   "cell_type": "code",
   "execution_count": null,
   "id": "bce1b4c6",
   "metadata": {},
   "outputs": [],
   "source": [
    "# What type of object has bold, underline, italic, strike, and outline variables?\n",
    "A Run object has these variables (not a Paragraph)."
   ]
  },
  {
   "cell_type": "code",
   "execution_count": null,
   "id": "aa996a75",
   "metadata": {},
   "outputs": [],
   "source": [
    "# What is the difference between False, True, and None for the bold variable?\n",
    "True always makes the Run object bolded and False makes it always not bolded, no matter what the style’s bold setting is. None will make the Run object just use the style’s bold setting."
   ]
  },
  {
   "cell_type": "code",
   "execution_count": null,
   "id": "ec9ddc33",
   "metadata": {},
   "outputs": [],
   "source": [
    "#  How do you create a Document object for a new Word document?\n",
    "Call the docx.Document() function."
   ]
  },
  {
   "cell_type": "code",
   "execution_count": null,
   "id": "eafd5dde",
   "metadata": {},
   "outputs": [],
   "source": [
    "# How do you add a paragraph with the text 'Hello, there!' to a Document object stored in a variable named doc?\n",
    "doc.add_paragraph('Hello there!')\n",
    "\n"
   ]
  },
  {
   "cell_type": "code",
   "execution_count": null,
   "id": "d5454afc",
   "metadata": {},
   "outputs": [],
   "source": [
    "# What integers represent the levels of headings available in Word documents?\n",
    "The integers 0, 1, 2, 3, and 4"
   ]
  }
 ],
 "metadata": {
  "kernelspec": {
   "display_name": "Python 3 (ipykernel)",
   "language": "python",
   "name": "python3"
  },
  "language_info": {
   "codemirror_mode": {
    "name": "ipython",
    "version": 3
   },
   "file_extension": ".py",
   "mimetype": "text/x-python",
   "name": "python",
   "nbconvert_exporter": "python",
   "pygments_lexer": "ipython3",
   "version": "3.9.7"
  }
 },
 "nbformat": 4,
 "nbformat_minor": 5
}
