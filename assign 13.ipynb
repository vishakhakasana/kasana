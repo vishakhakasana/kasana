{
 "cells": [
  {
   "cell_type": "code",
   "execution_count": null,
   "id": "05fe4016",
   "metadata": {},
   "outputs": [],
   "source": [
    "# What advantages do Excel spreadsheets have over CSV spreadsheets?\n",
    "In Excel, spreadsheets can have values of data types other than strings;\n",
    "cells can have different fonts, sizes, or color settings; \n",
    "cells can have varying widths and heights; adjacent cells can be merged; and you can embed images and charts."
   ]
  },
  {
   "cell_type": "code",
   "execution_count": null,
   "id": "228fb20f",
   "metadata": {},
   "outputs": [],
   "source": [
    "# What do you pass to csv.reader() and csv.writer() to create reader and writer objects?\n",
    "You pass a File object, obtained from a call to open()."
   ]
  },
  {
   "cell_type": "code",
   "execution_count": null,
   "id": "23c4912f",
   "metadata": {},
   "outputs": [],
   "source": [
    "# What modes do File objects for reader and writer objects need to be opened in?\n",
    "File objects need to be opened in read-binary ('rb') for reader objects and write-binary ('wb') for writer objects."
   ]
  },
  {
   "cell_type": "code",
   "execution_count": null,
   "id": "c1a3b4b2",
   "metadata": {},
   "outputs": [],
   "source": [
    "# What method takes a list argument and writes it to a CSV file?\n",
    "The writerow() method"
   ]
  },
  {
   "cell_type": "code",
   "execution_count": null,
   "id": "d06237df",
   "metadata": {},
   "outputs": [],
   "source": [
    "# What do the keyword arguments delimiter and line terminator do?\n",
    "The delimiter argument changes the string used to separate cells in a row. The lineterminator argument changes the string used to separate rows."
   ]
  },
  {
   "cell_type": "code",
   "execution_count": null,
   "id": "36dbbce4",
   "metadata": {},
   "outputs": [],
   "source": [
    "# What function takes a string of JSON data and returns a Python data structure?\n",
    "json.loads()"
   ]
  },
  {
   "cell_type": "code",
   "execution_count": null,
   "id": "34aaede9",
   "metadata": {},
   "outputs": [],
   "source": [
    "# 7. What function takes a Python data structure and returns a string of JSON data?\n",
    "json.dumps()"
   ]
  }
 ],
 "metadata": {
  "kernelspec": {
   "display_name": "Python 3 (ipykernel)",
   "language": "python",
   "name": "python3"
  },
  "language_info": {
   "codemirror_mode": {
    "name": "ipython",
    "version": 3
   },
   "file_extension": ".py",
   "mimetype": "text/x-python",
   "name": "python",
   "nbconvert_exporter": "python",
   "pygments_lexer": "ipython3",
   "version": "3.9.7"
  }
 },
 "nbformat": 4,
 "nbformat_minor": 5
}
