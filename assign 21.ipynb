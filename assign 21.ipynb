{
 "cells": [
  {
   "cell_type": "code",
   "execution_count": 1,
   "id": "4f98238d",
   "metadata": {},
   "outputs": [
    {
     "data": {
      "text/plain": [
       "'2022-07-17'"
      ]
     },
     "execution_count": 1,
     "metadata": {},
     "output_type": "execute_result"
    }
   ],
   "source": [
    "# Add the current date to the text file today.txt as a string.\n",
    "\n",
    "import datetime\n",
    "from datetime import date\n",
    "now = date.today()\n",
    "cur_date = now.isoformat()\n",
    "cur_date"
   ]
  },
  {
   "cell_type": "code",
   "execution_count": 3,
   "id": "d974919b",
   "metadata": {},
   "outputs": [
    {
     "data": {
      "text/plain": [
       "'2022-07-17'"
      ]
     },
     "execution_count": 3,
     "metadata": {},
     "output_type": "execute_result"
    }
   ],
   "source": [
    "# Read the text file today.txt into the string today_string\n",
    "with open('today.txt','w') as file:\n",
    "    file.write(cur_date)\n",
    "with open('today.txt','r') as file:\n",
    "    today_string = file.read()\n",
    "today_string"
   ]
  },
  {
   "cell_type": "code",
   "execution_count": 4,
   "id": "4f6739ea",
   "metadata": {},
   "outputs": [
    {
     "data": {
      "text/plain": [
       "datetime.datetime(2022, 7, 17, 0, 0)"
      ]
     },
     "execution_count": 4,
     "metadata": {},
     "output_type": "execute_result"
    }
   ],
   "source": [
    "# Parse the date from today_string.\n",
    "\n",
    "from datetime import datetime\n",
    "format = '%Y-%m-%d'\n",
    "datetime.strptime(today_string,format)"
   ]
  },
  {
   "cell_type": "code",
   "execution_count": 5,
   "id": "0afd09a7",
   "metadata": {},
   "outputs": [
    {
     "data": {
      "text/plain": [
       "['.idlerc',\n",
       " '.ipynb_checkpoints',\n",
       " '.ipython',\n",
       " '.jupyter',\n",
       " '3D Objects',\n",
       " 'anaconda3',\n",
       " 'AppData',\n",
       " 'Application Data',\n",
       " 'asign prog 4.ipynb',\n",
       " 'assig.prog 2',\n",
       " 'assign 1.ipynb',\n",
       " 'assign 10.ipynb',\n",
       " 'assign 11.ipynb',\n",
       " 'assign 12.ipynb',\n",
       " 'assign 13.ipynb',\n",
       " 'assign 14.ipynb',\n",
       " 'assign 15.ipynb',\n",
       " 'assign 16.ipynb',\n",
       " 'assign 17.ipynb',\n",
       " 'assign 18.ipynb',\n",
       " 'assign 19.ipynb',\n",
       " 'ASSIGN 2.ipynb',\n",
       " 'assign 20.ipynb',\n",
       " 'assign 3.ipynb',\n",
       " 'assign 4.ipynb',\n",
       " 'assign 5 .ipynb',\n",
       " 'assign 6.ipynb',\n",
       " 'assign 7.ipynb',\n",
       " 'assign 8.ipynb',\n",
       " 'assign 9.ipynb',\n",
       " 'assign prog 10.ipynb',\n",
       " 'assign prog 12.ipynb',\n",
       " 'assign prog 3.ipynb',\n",
       " 'assign prog 5.ipynb',\n",
       " 'assign prog.1',\n",
       " 'assign strt.ipynb',\n",
       " 'assign. 19',\n",
       " 'B612_20211119_091717_015_opt_opt.jpg',\n",
       " 'books.csv',\n",
       " 'books.db',\n",
       " 'Contacts',\n",
       " 'Cookies',\n",
       " 'Desktop',\n",
       " 'Documents',\n",
       " 'Downloads',\n",
       " 'Favorites',\n",
       " 'google.txt',\n",
       " 'Links',\n",
       " 'Local Settings',\n",
       " 'Music',\n",
       " 'My Documents',\n",
       " 'NetHood',\n",
       " 'NTUSER.DAT',\n",
       " 'ntuser.dat.LOG1',\n",
       " 'ntuser.dat.LOG2',\n",
       " 'NTUSER.DAT{e86e1be2-0580-11ec-a2e6-6479f03633c2}.TM.blf',\n",
       " 'NTUSER.DAT{e86e1be2-0580-11ec-a2e6-6479f03633c2}.TMContainer00000000000000000001.regtrans-ms',\n",
       " 'NTUSER.DAT{e86e1be2-0580-11ec-a2e6-6479f03633c2}.TMContainer00000000000000000002.regtrans-ms',\n",
       " 'ntuser.ini',\n",
       " 'OneDrive',\n",
       " 'Pictures',\n",
       " 'PrintHood',\n",
       " 'prog 6.ipynb',\n",
       " 'prog 8.ipynb',\n",
       " 'prog assign 11.ipynb',\n",
       " 'prog assign 13.ipynb',\n",
       " 'prog assign 14.ipynb',\n",
       " 'prog assign 15.ipynb',\n",
       " 'prog assign 16.ipynb',\n",
       " 'prog assign 17.ipynb',\n",
       " 'prog assign 18.ipynb',\n",
       " 'prog assign 19.ipynb',\n",
       " 'prog assign 20.ipynb',\n",
       " 'prog assign 21.ipynb',\n",
       " 'prog assign 22.ipynb',\n",
       " 'prog assign 23.ipynb',\n",
       " 'prog assign 24.ipynb',\n",
       " 'prog assign 25.ipynb',\n",
       " 'prog assign 7.ipynb',\n",
       " 'prog assign 9.ipynb',\n",
       " 'Recent',\n",
       " 'Saved Games',\n",
       " 'Searches',\n",
       " 'SendTo',\n",
       " 'Start Menu',\n",
       " 'Templates',\n",
       " 'test.txt',\n",
       " 'today.txt',\n",
       " 'Untitled.ipynb',\n",
       " 'Untitled1.ipynb',\n",
       " 'Untitled10.ipynb',\n",
       " 'Untitled11.ipynb',\n",
       " 'Untitled12.ipynb',\n",
       " 'Untitled13.ipynb',\n",
       " 'Untitled14.ipynb',\n",
       " 'Untitled15.ipynb',\n",
       " 'Untitled16.ipynb',\n",
       " 'Untitled17.ipynb',\n",
       " 'Untitled18.ipynb',\n",
       " 'Untitled19.ipynb',\n",
       " 'Untitled2.ipynb',\n",
       " 'Untitled20.ipynb',\n",
       " 'Untitled21.ipynb',\n",
       " 'Untitled22.ipynb',\n",
       " 'Untitled23.ipynb',\n",
       " 'Untitled24.ipynb',\n",
       " 'Untitled25.ipynb',\n",
       " 'Untitled26.ipynb',\n",
       " 'Untitled27.ipynb',\n",
       " 'Untitled28.ipynb',\n",
       " 'Untitled29.ipynb',\n",
       " 'Untitled3.ipynb',\n",
       " 'Untitled30.ipynb',\n",
       " 'Untitled31.ipynb',\n",
       " 'Untitled32.ipynb',\n",
       " 'Untitled33.ipynb',\n",
       " 'Untitled34.ipynb',\n",
       " 'Untitled35.ipynb',\n",
       " 'Untitled36.ipynb',\n",
       " 'Untitled37.ipynb',\n",
       " 'Untitled38.ipynb',\n",
       " 'Untitled39.ipynb',\n",
       " 'Untitled4.ipynb',\n",
       " 'Untitled40.ipynb',\n",
       " 'Untitled41.ipynb',\n",
       " 'Untitled42.ipynb',\n",
       " 'Untitled43.ipynb',\n",
       " 'Untitled44.ipynb',\n",
       " 'Untitled45.ipynb',\n",
       " 'Untitled46.ipynb',\n",
       " 'Untitled47.ipynb',\n",
       " 'Untitled48.ipynb',\n",
       " 'Untitled49.ipynb',\n",
       " 'Untitled5.ipynb',\n",
       " 'Untitled50.ipynb',\n",
       " 'Untitled51.ipynb',\n",
       " 'Untitled52.ipynb',\n",
       " 'Untitled53.ipynb',\n",
       " 'Untitled54.ipynb',\n",
       " 'Untitled55.ipynb',\n",
       " 'Untitled56.ipynb',\n",
       " 'Untitled57.ipynb',\n",
       " 'Untitled58.ipynb',\n",
       " 'Untitled59.ipynb',\n",
       " 'Untitled6.ipynb',\n",
       " 'Untitled60.ipynb',\n",
       " 'Untitled61.ipynb',\n",
       " 'Untitled62.ipynb',\n",
       " 'Untitled63.ipynb',\n",
       " 'Untitled64.ipynb',\n",
       " 'Untitled65.ipynb',\n",
       " 'Untitled66.ipynb',\n",
       " 'Untitled67.ipynb',\n",
       " 'Untitled68.ipynb',\n",
       " 'Untitled69.ipynb',\n",
       " 'Untitled7.ipynb',\n",
       " 'Untitled70.ipynb',\n",
       " 'Untitled71.ipynb',\n",
       " 'Untitled72.ipynb',\n",
       " 'Untitled73.ipynb',\n",
       " 'Untitled74.ipynb',\n",
       " 'Untitled75.ipynb',\n",
       " 'Untitled76.ipynb',\n",
       " 'Untitled8.ipynb',\n",
       " 'Untitled9.ipynb',\n",
       " 'Videos']"
      ]
     },
     "execution_count": 5,
     "metadata": {},
     "output_type": "execute_result"
    }
   ],
   "source": [
    "# List the files in your current directory\n",
    "import os\n",
    "os.listdir('.')"
   ]
  },
  {
   "cell_type": "code",
   "execution_count": 6,
   "id": "3c1c9e59",
   "metadata": {},
   "outputs": [
    {
     "name": "stderr",
     "output_type": "stream",
     "text": [
      "python: can't open file 'C:\\Users\\Vishakha Kasana\\abc.py': [Errno 2] No such file or directory\n"
     ]
    }
   ],
   "source": [
    "# Create a list of all of the files in your parent directory (minimum five files should be available).\n",
    "import multiprocessing\n",
    "\n",
    "def printsec(seconds):\n",
    "    from datetime import datetime\n",
    "    from time import sleep\n",
    "    sleep(seconds)\n",
    "    print('wait', seconds, 'seconds, time is', datetime.utcnow())\n",
    "    \n",
    "if __name__ == '__main__':\n",
    "    import random    \n",
    "    for n in range(3):\n",
    "        seconds = random.random()\n",
    "        proc = multiprocessing.Process(target=printsec, args=(seconds,))\n",
    "        proc.start()\n",
    "!python abc.py"
   ]
  },
  {
   "cell_type": "code",
   "execution_count": 9,
   "id": "c0fe526e",
   "metadata": {},
   "outputs": [
    {
     "data": {
      "text/plain": [
       "datetime.date(2001, 12, 6)"
      ]
     },
     "execution_count": 9,
     "metadata": {},
     "output_type": "execute_result"
    }
   ],
   "source": [
    "# Use multiprocessing to create three separate processes. Make each one wait a random number of\n",
    "# seconds between one and five, print the current time, and then exit.\n",
    "\n",
    "my_dob = date(2001,12,6)\n",
    "my_dob"
   ]
  },
  {
   "cell_type": "code",
   "execution_count": 10,
   "id": "ad6c16fe",
   "metadata": {},
   "outputs": [
    {
     "data": {
      "text/plain": [
       "3"
      ]
     },
     "execution_count": 10,
     "metadata": {},
     "output_type": "execute_result"
    }
   ],
   "source": [
    "# What day of the week was your day of birth?\n",
    "my_dob.weekday()"
   ]
  },
  {
   "cell_type": "code",
   "execution_count": 11,
   "id": "77d0bf3c",
   "metadata": {},
   "outputs": [
    {
     "data": {
      "text/plain": [
       "datetime.date(2029, 4, 23)"
      ]
     },
     "execution_count": 11,
     "metadata": {},
     "output_type": "execute_result"
    }
   ],
   "source": [
    "# When will you be (or when were you) 10,000 days old?\n",
    "\n",
    "from datetime import timedelta\n",
    "day10000 = my_dob + timedelta(days=10000)\n",
    "day10000"
   ]
  }
 ],
 "metadata": {
  "kernelspec": {
   "display_name": "Python 3 (ipykernel)",
   "language": "python",
   "name": "python3"
  },
  "language_info": {
   "codemirror_mode": {
    "name": "ipython",
    "version": 3
   },
   "file_extension": ".py",
   "mimetype": "text/x-python",
   "name": "python",
   "nbconvert_exporter": "python",
   "pygments_lexer": "ipython3",
   "version": "3.9.7"
  }
 },
 "nbformat": 4,
 "nbformat_minor": 5
}
