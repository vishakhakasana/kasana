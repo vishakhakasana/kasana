{
 "cells": [
  {
   "cell_type": "code",
   "execution_count": 5,
   "id": "549749cc",
   "metadata": {},
   "outputs": [
    {
     "name": "stdout",
     "output_type": "stream",
     "text": [
      "{}\n"
     ]
    }
   ],
   "source": [
    "# what does an empty dictionary code look like?\n",
    "\n",
    "emptydict = {}\n",
    "print(emptydict)\n"
   ]
  },
  {
   "cell_type": "code",
   "execution_count": 4,
   "id": "342f3a6e",
   "metadata": {},
   "outputs": [
    {
     "data": {
      "text/plain": [
       "{'foo': 42}"
      ]
     },
     "execution_count": 4,
     "metadata": {},
     "output_type": "execute_result"
    }
   ],
   "source": [
    "# what is the value of dictionary value with the key 'foo' and the value42?\n",
    "\n",
    "{'foo': 42}"
   ]
  },
  {
   "cell_type": "code",
   "execution_count": null,
   "id": "3811c697",
   "metadata": {},
   "outputs": [],
   "source": [
    "# what is the most significant distinction between a dictionary and a list?\n",
    " A list  is an ordered sequence of object,whereas dictionaries are unordered sets.\n",
    "    main difference is that items in dictionaries are accesed via keys and not via their position.\n",
    "    \n"
   ]
  },
  {
   "cell_type": "code",
   "execution_count": null,
   "id": "fb372c25",
   "metadata": {},
   "outputs": [],
   "source": [
    "# what happens if you try to access,spam['foo'] if spam is {'bar': 100}?\n",
    "    you get a KEYERROR.  "
   ]
  },
  {
   "cell_type": "code",
   "execution_count": null,
   "id": "b76cecff",
   "metadata": {},
   "outputs": [],
   "source": [
    "# if a dictionary is stored in spam,what is the difference between the expressiion 'cat' in spam and 'cat' in spam.keys()?\n",
    "   there is no difference. the in operator checks wheather a value exists as a key in the dictionary.\n",
    "    "
   ]
  },
  {
   "cell_type": "code",
   "execution_count": null,
   "id": "df5b954c",
   "metadata": {},
   "outputs": [],
   "source": [
    "# if a dictionary is stored in spam,what is the difference between the expression 'cat' in spam and 'cat' in spam.values()?\n",
    "\n",
    "  'cat' in spam checks whether there is a 'cat' key in the dictionary ,while 'cat' in spam.values() checks whether there is a value 'cat' for one of the keys in spam.\n",
    "    "
   ]
  },
  {
   "cell_type": "code",
   "execution_count": null,
   "id": "84723574",
   "metadata": {},
   "outputs": [],
   "source": [
    "# what is a shortcut for the following code?\n",
    " if 'color' not in spam.\n",
    "    spam['color'] = 'black' \n",
    "    \n",
    "    spam.setdefault('color','black')\n"
   ]
  },
  {
   "cell_type": "code",
   "execution_count": null,
   "id": "6842eef1",
   "metadata": {},
   "outputs": [],
   "source": [
    "# how do you \"pretty print\" dictionary values using which module and function?\n",
    " pprint.pprint()"
   ]
  }
 ],
 "metadata": {
  "kernelspec": {
   "display_name": "Python 3 (ipykernel)",
   "language": "python",
   "name": "python3"
  },
  "language_info": {
   "codemirror_mode": {
    "name": "ipython",
    "version": 3
   },
   "file_extension": ".py",
   "mimetype": "text/x-python",
   "name": "python",
   "nbconvert_exporter": "python",
   "pygments_lexer": "ipython3",
   "version": "3.9.7"
  }
 },
 "nbformat": 4,
 "nbformat_minor": 5
}
