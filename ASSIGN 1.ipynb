{
 "cells": [
  {
   "cell_type": "code",
   "execution_count": null,
   "id": "bd044a48",
   "metadata": {},
   "outputs": [],
   "source": [
    "1..In the below elements which of the following values or an expression?\n",
    "\n",
    "\n",
    "* is an expression \n",
    "'hello' is an value\n",
    "87.8 is a value\n",
    "-is a expression\n",
    "/ is a expression\n",
    "+is a expression \n",
    "6 is a value"
   ]
  },
  {
   "cell_type": "code",
   "execution_count": null,
   "id": "a29c4a67",
   "metadata": {},
   "outputs": [],
   "source": [
    "2...difference between string and variable?\n",
    "string can be written in quotes example..\"kasana\",'kasana'.\n",
    "variables is a thing in which we can store data just like a container."
   ]
  },
  {
   "cell_type": "code",
   "execution_count": null,
   "id": "cc8378ce",
   "metadata": {},
   "outputs": [],
   "source": [
    "3...describe three data types?\n",
    "list...list is used to storing multiple data items in a single variable. \n",
    "integer...can store only numericals value.\n",
    "float...can store only floating values such as 12.34,34.54,etc."
   ]
  },
  {
   "cell_type": "code",
   "execution_count": null,
   "id": "211413cb",
   "metadata": {},
   "outputs": [],
   "source": [
    "4..what is expression made up of ? what do all expression do?\n",
    "Expression is made up of values,container and mathematicals opeartors(operand) example.. a=8+9 and expression are used to evaluate the values or represent the result on the screen."
   ]
  },
  {
   "cell_type": "code",
   "execution_count": null,
   "id": "fdff7a79",
   "metadata": {},
   "outputs": [],
   "source": [
    "5..this assignment statements,like spam=10.what is the difference between an expression and a statement?\n",
    "\n",
    "expression is made up of values, container and mathematicals oerators(operands) and the statements is just like a command that a python interpreter executes like print."
   ]
  },
  {
   "cell_type": "code",
   "execution_count": null,
   "id": "b5f53c33",
   "metadata": {},
   "outputs": [],
   "source": [
    "6..after running the code, what does the variable bacon contain?\n",
    " bacon=22\n",
    " bacon+1\n",
    "\n",
    "output is 23"
   ]
  },
  {
   "cell_type": "code",
   "execution_count": null,
   "id": "1e44e617",
   "metadata": {},
   "outputs": [],
   "source": [
    "7..what should the value of the following two terms be?\n",
    " 'spam'+'spamspam'\n",
    "     'spamspamspam'\n",
    "\n",
    " 'spam'*3\n",
    "     'spamspamspam'"
   ]
  },
  {
   "cell_type": "code",
   "execution_count": null,
   "id": "32fa33f4",
   "metadata": {},
   "outputs": [],
   "source": [
    "8..why is eggs a valid variable name while 100 is invalid?\n",
    "  \n",
    "  because we can not start giving variable an integer name.if we, we should begin with,a string-like alphabet name then integer.e100 or eggs100 is valid."
   ]
  },
  {
   "cell_type": "code",
   "execution_count": null,
   "id": "5a35b1aa",
   "metadata": {},
   "outputs": [],
   "source": [
    "9... what three function can be used to get the integer,floating-point number,or string version of a value?\n",
    "\n",
    "str(),int(),float()"
   ]
  },
  {
   "cell_type": "code",
   "execution_count": null,
   "id": "35880bbb",
   "metadata": {},
   "outputs": [],
   "source": [
    "10.. why does this expression cause an error? how can you fix it?\n",
    " 'i have eaten'+99+'burritos'\n",
    "\n",
    "because 99 is an integer it can not be concatenate with string ,if we have to concatenate it we need to do typecasting.\n"
   ]
  }
 ],
 "metadata": {
  "kernelspec": {
   "display_name": "Python 3 (ipykernel)",
   "language": "python",
   "name": "python3"
  },
  "language_info": {
   "codemirror_mode": {
    "name": "ipython",
    "version": 3
   },
   "file_extension": ".py",
   "mimetype": "text/x-python",
   "name": "python",
   "nbconvert_exporter": "python",
   "pygments_lexer": "ipython3",
   "version": "3.9.7"
  }
 },
 "nbformat": 4,
 "nbformat_minor": 5
}
