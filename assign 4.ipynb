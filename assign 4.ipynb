{
 "cells": [
  {
   "cell_type": "code",
   "execution_count": null,
   "id": "e8d3a4af",
   "metadata": {},
   "outputs": [],
   "source": [
    "# What exactly is []?\n",
    "The empty list value, which is a list value that contains no items. This is similar to how '' is the empty string value.\n"
   ]
  },
  {
   "cell_type": "code",
   "execution_count": null,
   "id": "e3fd87da",
   "metadata": {},
   "outputs": [],
   "source": [
    "# 2. In a list of values stored in a variable called spam, how would you assign the value &#39;hello&#39; as the\n",
    "third value? (Assume [2, 4, 6, 8, 10] are in spam.)\n",
    "Let&#39;s pretend the spam includes the list [&#39;a&#39;, &#39;b&#39;, &#39;c&#39;, &#39;d&#39;] for the next three queries.\n",
    " \n",
    "    spam[2] = 'hello' (Notice that the third value in a list is at index 2 because the first index is 0.)"
   ]
  },
  {
   "cell_type": "code",
   "execution_count": null,
   "id": "8730a932",
   "metadata": {},
   "outputs": [],
   "source": [
    "# 3. What is the value of spam[int(int(&#39;3&#39; * 2) / 11)]?\n",
    "'d' (Note that '3' * 2 is the string '33', which is passed to int() before being divided by 11. This eventually evaluates to 3. Expressions can be used wherever values are used.)"
   ]
  },
  {
   "cell_type": "code",
   "execution_count": null,
   "id": "2cfd23c5",
   "metadata": {},
   "outputs": [],
   "source": [
    "# 4. What is the value of spam[-1]?\n",
    "'d' (Negative indexes count from the end.)"
   ]
  },
  {
   "cell_type": "code",
   "execution_count": null,
   "id": "847938b4",
   "metadata": {},
   "outputs": [],
   "source": [
    "# 5. What is the value of spam[:2]? \n",
    "Let&#39;s pretend bacon has the list [3.14, &#39;cat,&#39; 11, &#39;cat,&#39; True] for the next three questions.\n",
    "    ['a', 'b']"
   ]
  },
  {
   "cell_type": "code",
   "execution_count": null,
   "id": "0ab89bd3",
   "metadata": {},
   "outputs": [],
   "source": [
    "# 6. What is the value of bacon.index(&#39;cat&#39;)?\n",
    "1"
   ]
  },
  {
   "cell_type": "code",
   "execution_count": null,
   "id": "c21380f8",
   "metadata": {},
   "outputs": [],
   "source": [
    "# 7. How does bacon.append(99) change the look of the list value in bacon? \n",
    "    [3.14, 'cat', 11, 'cat', True, 99]"
   ]
  },
  {
   "cell_type": "code",
   "execution_count": null,
   "id": "cd44587a",
   "metadata": {},
   "outputs": [],
   "source": [
    "# 8. How does bacon.remove(&#39;cat&#39;) change the look of the list in bacon?\n",
    "[3.14, 11, 'cat', True]"
   ]
  },
  {
   "cell_type": "code",
   "execution_count": null,
   "id": "0dafbc6d",
   "metadata": {},
   "outputs": [],
   "source": [
    "# What are the list concatenation and list replication operators?\n",
    "The operator for list concatenation is +, while the operator for replication is *. (This is the same as for strings.)"
   ]
  },
  {
   "cell_type": "code",
   "execution_count": null,
   "id": "08b0d115",
   "metadata": {},
   "outputs": [],
   "source": [
    "# 10. What is difference between the list methods append() and insert()?\n",
    "While append() will add values only to the end of a list, insert() can add them anywhere in the list."
   ]
  },
  {
   "cell_type": "code",
   "execution_count": null,
   "id": "296d6580",
   "metadata": {},
   "outputs": [],
   "source": [
    "# 11. What are the two methods for removing items from a list?\n",
    "The del statement and the remove() list method are two ways to remove values from a list."
   ]
  },
  {
   "cell_type": "code",
   "execution_count": null,
   "id": "7e7c2276",
   "metadata": {},
   "outputs": [],
   "source": [
    "# 12. Describe how list values and string values are identical.\n",
    "Both lists and strings can be passed to len(), have indexes and slices, be used in for loops, be concatenated or replicated, and be used with the in and not in operators."
   ]
  },
  {
   "cell_type": "code",
   "execution_count": null,
   "id": "1dc8638e",
   "metadata": {},
   "outputs": [],
   "source": [
    "# 13. What&#39;s the difference between tuples and lists?\n",
    "Lists are mutable; they can have values added, removed, or changed. Tuples are immutable; they cannot be changed at all. Also, tuples are written using parentheses, ( and ), while lists use the square brackets, [ and ]."
   ]
  },
  {
   "cell_type": "code",
   "execution_count": null,
   "id": "acd5e224",
   "metadata": {},
   "outputs": [],
   "source": [
    "# 14. How do you type a tuple value that only contains the integer 42?\n",
    "    (42,) (The trailing comma is mandatory.)"
   ]
  },
  {
   "cell_type": "code",
   "execution_count": null,
   "id": "2e018f27",
   "metadata": {},
   "outputs": [],
   "source": [
    "# 15. How do you get a list value&#39;s tuple form? How do you get a tuple value&#39;s list form?\n",
    "The tuple() and list() functions, respectively"
   ]
  },
  {
   "cell_type": "code",
   "execution_count": null,
   "id": "8d924cc0",
   "metadata": {},
   "outputs": [],
   "source": [
    "# 16. Variables that &quot;contain&quot; list values are not necessarily lists themselves. Instead, what do they\n",
    "contain?\n",
    "\n",
    "They contain references to list values."
   ]
  },
  {
   "cell_type": "code",
   "execution_count": null,
   "id": "25ea4c24",
   "metadata": {},
   "outputs": [],
   "source": [
    "# 17. How do you distinguish between copy.copy() and copy.deepcopy()?\n",
    "The copy.copy() function will do a shallow copy of a list, while the copy.deepcopy() function will do a deep copy of a list. That is, only copy.deepcopy() will duplicate any lists inside the list."
   ]
  }
 ],
 "metadata": {
  "kernelspec": {
   "display_name": "Python 3 (ipykernel)",
   "language": "python",
   "name": "python3"
  },
  "language_info": {
   "codemirror_mode": {
    "name": "ipython",
    "version": 3
   },
   "file_extension": ".py",
   "mimetype": "text/x-python",
   "name": "python",
   "nbconvert_exporter": "python",
   "pygments_lexer": "ipython3",
   "version": "3.9.7"
  }
 },
 "nbformat": 4,
 "nbformat_minor": 5
}
