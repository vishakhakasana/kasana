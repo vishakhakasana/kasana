{
 "cells": [
  {
   "cell_type": "code",
   "execution_count": null,
   "id": "37100ee2",
   "metadata": {},
   "outputs": [],
   "source": [
    "# 1. What are escape characters, and how do you use them?\n",
    "\n",
    "  Escape character represent characters in string values that would otherwise be difficult or impossible to type into code."
   ]
  },
  {
   "cell_type": "code",
   "execution_count": null,
   "id": "0d6c8462",
   "metadata": {},
   "outputs": [],
   "source": [
    "# 2. What do the escape characters n and t stand for?\n",
    "   n is new newline.\n",
    "   t is tab."
   ]
  },
  {
   "cell_type": "code",
   "execution_count": null,
   "id": "b38c5ad2",
   "metadata": {},
   "outputs": [],
   "source": [
    "# 3. What is the way to include backslash characters in a string?\n",
    "     the \\\\ escape character will represent  a backslash character.\n",
    "    "
   ]
  },
  {
   "cell_type": "code",
   "execution_count": null,
   "id": "9dceeb80",
   "metadata": {},
   "outputs": [],
   "source": [
    "# 4. The string &quot;Howl&#39;s Moving Castle&quot; is a correct value. Why isn&#39;t the single quote character in the\n",
    "word Howl's is not escaped a problem?\n",
    "\n",
    "  The single quotes in Howl's is fine because you've used double quotes to mark the beginning and end of the string."
   ]
  },
  {
   "cell_type": "code",
   "execution_count": null,
   "id": "df9cd85a",
   "metadata": {},
   "outputs": [],
   "source": [
    "# 5. How do you write a string of newlines if you don&#39;t want to use the n character?\n",
    "    multiline strings allow you to use newlines in strings without the \\n escape character."
   ]
  },
  {
   "cell_type": "code",
   "execution_count": null,
   "id": "9761a611",
   "metadata": {},
   "outputs": [],
   "source": [
    "# 6. What are the values of the given expressions?\n",
    "     Hello, world![1] \n",
    "     Hello, world![0:5]\n",
    "     Hello, world![:5]\n",
    "     Hello, world![3:]\n",
    "        \n",
    "        'e'\n",
    "        'Hello'\n",
    "        'Hello'\n",
    "        'lo world!'"
   ]
  },
  {
   "cell_type": "code",
   "execution_count": null,
   "id": "f1ded4a8",
   "metadata": {},
   "outputs": [],
   "source": [
    "# 7. What are the values of the following expressions?\n",
    "Hello.upper()\n",
    "Hello.upper().isupper()\n",
    "Hello.upper().lower()\n",
    "\n",
    "   'HELLO'\n",
    "    'True'\n",
    "    'hello'"
   ]
  },
  {
   "cell_type": "code",
   "execution_count": null,
   "id": "63df3629",
   "metadata": {},
   "outputs": [],
   "source": [
    "# 8. What are the values of the following expressions?\n",
    "Remember, remember, the fifth of July.'.split()\n",
    "'-'.join('There can only one.'.split())\n",
    "\n",
    "    ['Remember,' , 'remember,', 'the', 'fifth', 'of', 'November.']\n",
    "     'There-can-be-only-one.'"
   ]
  },
  {
   "cell_type": "code",
   "execution_count": null,
   "id": "edf1d265",
   "metadata": {},
   "outputs": [],
   "source": [
    "# 9. What are the methods for right-justifying, left-justifying, and centering a string?\n",
    "\n",
    "   The rjust(),ljust(), and center() string methods,respectively"
   ]
  },
  {
   "cell_type": "code",
   "execution_count": null,
   "id": "8b0dc69e",
   "metadata": {},
   "outputs": [],
   "source": [
    "# 10. What is the best way to remove whitespace characters from the start or end?\n",
    "   The lstrip() and rstrip() methods remove whitespace from left and right ends of a string,respectively."
   ]
  }
 ],
 "metadata": {
  "kernelspec": {
   "display_name": "Python 3 (ipykernel)",
   "language": "python",
   "name": "python3"
  },
  "language_info": {
   "codemirror_mode": {
    "name": "ipython",
    "version": 3
   },
   "file_extension": ".py",
   "mimetype": "text/x-python",
   "name": "python",
   "nbconvert_exporter": "python",
   "pygments_lexer": "ipython3",
   "version": "3.9.7"
  }
 },
 "nbformat": 4,
 "nbformat_minor": 5
}
