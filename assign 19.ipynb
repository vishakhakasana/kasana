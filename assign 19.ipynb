{
 "cells": [
  {
   "cell_type": "code",
   "execution_count": 7,
   "id": "d4019636",
   "metadata": {},
   "outputs": [
    {
     "name": "stdout",
     "output_type": "stream",
     "text": [
      "<class '__main__.Thing'>\n",
      "<__main__.Thing object at 0x000002342B188EB0>\n"
     ]
    }
   ],
   "source": [
    "# 1. Make a class called Thing with no contents and print it. Then, create an object called example\n",
    "# from this class and also print it. Are the printed values the same or different?\n",
    "\n",
    "\n",
    "class Thing():\n",
    "    pass\n",
    "print(Thing)\n",
    "\n",
    "example=Thing()\n",
    "print(example)"
   ]
  },
  {
   "cell_type": "code",
   "execution_count": 6,
   "id": "55ac11dd",
   "metadata": {},
   "outputs": [
    {
     "name": "stdout",
     "output_type": "stream",
     "text": [
      "abc\n"
     ]
    }
   ],
   "source": [
    "# 2. Create a new class called Thing2 and add the value 'abc' to the letters class attribute. Letters should be printed.\n",
    "\n",
    "class Thing2:\n",
    "    pass \n",
    "letter='abc'\n",
    "print(letter)"
   ]
  },
  {
   "cell_type": "code",
   "execution_count": 8,
   "id": "3cf211ef",
   "metadata": {},
   "outputs": [
    {
     "name": "stdout",
     "output_type": "stream",
     "text": [
      "xyz\n"
     ]
    }
   ],
   "source": [
    "# 3. Make yet another class called, of course, Thing3. This time, assign the value 'xyz' to an instance (object) attribute \n",
    "# called letters. Print letters. Do you need to make an object from the class to do this?\n",
    "\n",
    "\n",
    "class Thing3:\n",
    "    pass\n",
    "letter='xyz'\n",
    "print(letter)"
   ]
  },
  {
   "cell_type": "code",
   "execution_count": null,
   "id": "ebb7ac70",
   "metadata": {},
   "outputs": [],
   "source": [
    "# 4. Create an Element class with the instance attributes name, symbol, and number. \n",
    "# Create a class object with the values 'Hydrogen,' 'H,' and 1.\n",
    "\n",
    "class Element():\n",
    "    def _init_(self,name,symbol,number):\n",
    "        self.name=name\n",
    "        self.symbol=symbol\n",
    "        self.number=number\n",
    "hydrogen = Element('Hydrogen', 'H', 1)"
   ]
  },
  {
   "cell_type": "code",
   "execution_count": null,
   "id": "062e2b8c",
   "metadata": {},
   "outputs": [],
   "source": [
    "# 5. Make a dictionary with these keys and values: 'name': 'Hydrogen', 'symbol': 'H', 'number': 1.\n",
    "# Then, create an object called hydrogen from class Element using this dictionary.\n",
    "\n",
    "dic={ 'name': 'Hydrogen', 'symbol': 'H', 'number': 1}\n",
    "hydrogen=Element(dic['name'], dic['symbol'], dic['number'])\n",
    "hydrogen.name"
   ]
  },
  {
   "cell_type": "code",
   "execution_count": null,
   "id": "7e957e3b",
   "metadata": {},
   "outputs": [],
   "source": [
    "#  6. For the Element class, define a method called dump() that prints the values of the object’s attributes (name, symbol, and number). Create the hydrogen object from this new definition and use dump() to print its attributes.\n",
    "\n",
    "class Element:\n",
    "\n",
    "        def __init__(self, name, symbol, number):\n",
    "            self.name = name\n",
    "            self.symbol = symbol\n",
    "            self.number = number\n",
    "        def dump(self):\n",
    "            print('name=%s, symbol=%s, number=%s' %\n",
    "                (self.name, self.symbol, self.number))\n",
    "hydrogen = Element(**el_dict)\n",
    "hydrogen.dump()\n",
    "print(hydrogen)"
   ]
  },
  {
   "cell_type": "code",
   "execution_count": null,
   "id": "858a0bf1",
   "metadata": {},
   "outputs": [],
   "source": [
    "# 7. Call print(hydrogen). In the definition of Element, change the name of method dump to str, \n",
    "# create a new hydrogen object, and call print(hydrogen) again.\n",
    "\n",
    "print(hydrogen)\n",
    "class Element:\n",
    "        def __init__(self, name, symbol, number):\n",
    "            self.name = name\n",
    "            self.symbol = symbol\n",
    "            self.number = number\n",
    "        def __str__(self):\n",
    "            return ('name=%s, symbol=%s, number=%s' %\n",
    "                (self.name, self.symbol, self.number))\n",
    "hydrogen = Element(**el_dict)\n",
    "print(hydrogen)"
   ]
  },
  {
   "cell_type": "code",
   "execution_count": null,
   "id": "ca981949",
   "metadata": {},
   "outputs": [],
   "source": [
    "# 8. Modify Element to make the attributes name, symbol, and number private.\n",
    "# Define a getter property for each to return its value.\n",
    "\n",
    "class Element:\n",
    "        def __init__(self, name, symbol, number):\n",
    "            self.__name = name\n",
    "            self.__symbol = symbol\n",
    "            self.__number = number\n",
    "        @property\n",
    "        def name(self):\n",
    "            return self.__name\n",
    "        @property\n",
    "        def symbol(self):\n",
    "            return self.__symbol\n",
    "        @property\n",
    "        def number(self):\n",
    "            return self.__number\n",
    "hydrogen = Element('Hydrogen', 'H', 1)\n",
    "hydrogen.name\n",
    "hydrogen.symbol\n",
    "hydrogen.number"
   ]
  },
  {
   "cell_type": "code",
   "execution_count": 37,
   "id": "5f00473b",
   "metadata": {},
   "outputs": [
    {
     "name": "stdout",
     "output_type": "stream",
     "text": [
      "berries\n",
      "clover\n",
      "campers\n"
     ]
    }
   ],
   "source": [
    "# 9. Define three classes: Bear, Rabbit, and Octothorpe. For each, define only one method: eats(). \n",
    "# This should return 'berries' (Bear), 'clover' (Rabbit), or 'campers' (Octothorpe). \n",
    "# Create one object from each and print what it eats.\n",
    "class Bear:\n",
    "        def eats(self):\n",
    "            return 'berries'\n",
    "class Rabbit:\n",
    "     def eats(self):\n",
    "        return 'clover'\n",
    "class Octothorpe:\n",
    "     def eats(self):\n",
    "            return 'campers'\n",
    "b = Bear()\n",
    "r = Rabbit()\n",
    "o = Octothorpe()\n",
    "print(b.eats())\n",
    "print(r.eats())\n",
    "print(o.eats())"
   ]
  },
  {
   "cell_type": "code",
   "execution_count": 1,
   "id": "ab306e99",
   "metadata": {},
   "outputs": [
    {
     "name": "stdout",
     "output_type": "stream",
     "text": [
      "I have many attachments:\n",
      "            My laser, to disintegrate.\n",
      "            My claw, to crush.\n",
      "            My smartphone, to ring.\n"
     ]
    }
   ],
   "source": [
    "# 10. Define these classes: Laser, Claw, and SmartPhone.\n",
    "# Each has only one method: does(). This returns 'disintegrate' (Laser), 'crush' (Claw), or 'ring' (SmartPhone).\n",
    "# Then, define the class Robot that has one instance (object) of each of these.\n",
    "# Define a does() method for the Robot that prints what its component objects do.\n",
    "\n",
    "class Laser:\n",
    "    def does(self):\n",
    "             return 'disintegrate'\n",
    "class Claw:\n",
    "     def does(self):\n",
    "            return 'crush'\n",
    "\n",
    "class SmartPhone:\n",
    "     def does(self):\n",
    "            return 'ring'\n",
    "\n",
    "class Robot:\n",
    "    def __init__(self):\n",
    "            self.laser = Laser()\n",
    "            self.claw = Claw()\n",
    "            self.smartphone = SmartPhone()\n",
    "    def does(self):\n",
    "            return '''I have many attachments:\n",
    "            My laser, to %s.\n",
    "            My claw, to %s.\n",
    "            My smartphone, to %s.''' % (\n",
    "            self.laser.does(),\n",
    "            self.claw.does(),\n",
    "            self.smartphone.does() )\n",
    "robbie = Robot()\n",
    "print(robbie.does())"
   ]
  },
  {
   "cell_type": "code",
   "execution_count": null,
   "id": "da1e4c81",
   "metadata": {},
   "outputs": [],
   "source": []
  }
 ],
 "metadata": {
  "kernelspec": {
   "display_name": "Python 3 (ipykernel)",
   "language": "python",
   "name": "python3"
  },
  "language_info": {
   "codemirror_mode": {
    "name": "ipython",
    "version": 3
   },
   "file_extension": ".py",
   "mimetype": "text/x-python",
   "name": "python",
   "nbconvert_exporter": "python",
   "pygments_lexer": "ipython3",
   "version": "3.9.7"
  }
 },
 "nbformat": 4,
 "nbformat_minor": 5
}
