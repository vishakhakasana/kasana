{
 "cells": [
  {
   "cell_type": "code",
   "execution_count": null,
   "id": "71c62311",
   "metadata": {},
   "outputs": [],
   "source": [
    "# 1. What is the result of the code, and explain?\n",
    "\n",
    "# &gt;&gt;&gt; X = &#39;iNeuron&#39;\n",
    "# &gt;&gt;&gt; def func():\n",
    "# print(X)\n",
    "\n",
    "# &gt;&gt;&gt; func()\n",
    "\n",
    "The Result of this code is iNeuron, it's because the function intially looks for the variable X in its local scope\n",
    " But since there is no local variable X, its returns the value of global variable x ie iNeuron\n"
   ]
  },
  {
   "cell_type": "code",
   "execution_count": 1,
   "id": "24aa8762",
   "metadata": {},
   "outputs": [
    {
     "name": "stdout",
     "output_type": "stream",
     "text": [
      "iNeuron\n"
     ]
    }
   ],
   "source": [
    "X = 'iNeuron'\n",
    "def func():\n",
    "    print(X)\n",
    "func()"
   ]
  },
  {
   "cell_type": "code",
   "execution_count": null,
   "id": "0e1b7fad",
   "metadata": {},
   "outputs": [],
   "source": [
    "# 2. What is the result of the code, and explain?\n",
    "# >>> X = 'iNeuron'\n",
    "# >>> def func():\n",
    "# X = 'NI!'\n",
    "# >>> func()\n",
    "# >>> print(X)\n",
    "Ans: The Result of this cide is NI!, because the function initially looks for the variable X in its local scope\n",
    "    if X is not availablethen it checks for variable X in the global scope,\n",
    "    Since here the X is present in the local scope. it prints the value NI!"
   ]
  },
  {
   "cell_type": "code",
   "execution_count": 2,
   "id": "109db3e6",
   "metadata": {},
   "outputs": [
    {
     "name": "stdout",
     "output_type": "stream",
     "text": [
      "NI!\n"
     ]
    }
   ],
   "source": [
    "X = 'iNeuron'\n",
    "def func():\n",
    "    X = 'NI!'\n",
    "    print(X)\n",
    "func()"
   ]
  },
  {
   "cell_type": "code",
   "execution_count": null,
   "id": "f65551e4",
   "metadata": {},
   "outputs": [],
   "source": [
    "# 3. What does this code print, and why?\n",
    "# >>> X = 'iNeuron'\n",
    "#>>> def func():\n",
    "#X = 'NI'\n",
    "#print(X)\n",
    "#>>> func()\n",
    "#>>> print(X)\n",
    "Ans: The output of the code is NI and iNeuron. X=NI is in the local scope of the function func() hence the function prints the x value as NI.\n",
    "    X = 'iNeuron' is in the global scope. hence print(X) prints output as iNeuron"
   ]
  },
  {
   "cell_type": "code",
   "execution_count": 5,
   "id": "8517db9c",
   "metadata": {},
   "outputs": [
    {
     "name": "stdout",
     "output_type": "stream",
     "text": [
      "NI\n",
      "iNeuron\n"
     ]
    }
   ],
   "source": [
    "X = 'iNeuron'\n",
    "def func():\n",
    "    X = 'NI'\n",
    "    print(X)\n",
    "func()\n",
    "print(X)"
   ]
  },
  {
   "cell_type": "code",
   "execution_count": null,
   "id": "68dc9ad7",
   "metadata": {},
   "outputs": [],
   "source": [
    "# 4. What output does this code produce? Why?\n",
    "#>>> X = 'iNeuron'\n",
    "#>>> def func():\n",
    "#global X\n",
    "#X = 'NI'\n",
    "#>>> func()\n",
    "#>>> print(X)\n",
    "Ans: The output of the code is NI. the global keyword allows a variable to be accessible in the current scope. \n",
    "    since we are using global keyword inside the function func it directly access the variable in X in global scope. \n",
    "    and changes its value to NI. hence the output of the code is NI"
   ]
  },
  {
   "cell_type": "code",
   "execution_count": 6,
   "id": "bce10f16",
   "metadata": {},
   "outputs": [
    {
     "name": "stdout",
     "output_type": "stream",
     "text": [
      "NI\n"
     ]
    }
   ],
   "source": [
    "X = 'iNeuron'\n",
    "def func():\n",
    "    global X\n",
    "    X = 'NI'\n",
    "func()\n",
    "print(X)"
   ]
  },
  {
   "cell_type": "code",
   "execution_count": null,
   "id": "791eeacc",
   "metadata": {},
   "outputs": [],
   "source": [
    "# 5. What about this code—what’s the output, and why?\n",
    "#>>> X = 'iNeuron'\n",
    "#>>> def func():\n",
    "#X = 'NI'\n",
    "#def nested():\n",
    "#print(X)\n",
    "#nested()\n",
    "#>>> func()\n",
    "#>>> X\n",
    "Ans: The output of the code is NI. the reason for this output is if a function wants to access a variable,\n",
    "    if its not available in its localscope. it looks for the variable in its global scope.\n",
    "    similarly here also function nested looks for variable X in its global scope. hence the output of the code is NI"
   ]
  },
  {
   "cell_type": "code",
   "execution_count": 7,
   "id": "6d698076",
   "metadata": {},
   "outputs": [
    {
     "name": "stdout",
     "output_type": "stream",
     "text": [
      "NI\n"
     ]
    },
    {
     "data": {
      "text/plain": [
       "'iNeuron'"
      ]
     },
     "execution_count": 7,
     "metadata": {},
     "output_type": "execute_result"
    }
   ],
   "source": [
    "X = 'iNeuron'\n",
    "def func():\n",
    "    X = 'NI'\n",
    "    def nested():\n",
    "        print(X)\n",
    "    nested()\n",
    "func()\n",
    "X"
   ]
  },
  {
   "cell_type": "code",
   "execution_count": null,
   "id": "d041972f",
   "metadata": {},
   "outputs": [],
   "source": [
    "# 6. How about this code: what is its output in Python 3, and explain?\n",
    "#>>> def func():\n",
    "#X = 'NI'\n",
    "#def nested():\n",
    "#nonlocal X\n",
    "#X = 'Spam'\n",
    "#nested()\n",
    "#print(X)\n",
    "#>>> func()\n",
    "Ans: The output of the code is Spam. nonlocal keyword in python is used to declare a variable as not local\n",
    "    .Hence the statement X = \"Spam\" is modified in the global scope. hence the output of print(X) statement is Spam"
   ]
  },
  {
   "cell_type": "code",
   "execution_count": 8,
   "id": "b5c49d8e",
   "metadata": {},
   "outputs": [
    {
     "name": "stdout",
     "output_type": "stream",
     "text": [
      "Spam\n"
     ]
    }
   ],
   "source": [
    "def func():\n",
    "    X = 'NI'\n",
    "    def nested():\n",
    "        nonlocal X\n",
    "        X = 'Spam'\n",
    "    nested()\n",
    "    print(X)\n",
    "func()"
   ]
  }
 ],
 "metadata": {
  "kernelspec": {
   "display_name": "Python 3 (ipykernel)",
   "language": "python",
   "name": "python3"
  },
  "language_info": {
   "codemirror_mode": {
    "name": "ipython",
    "version": 3
   },
   "file_extension": ".py",
   "mimetype": "text/x-python",
   "name": "python",
   "nbconvert_exporter": "python",
   "pygments_lexer": "ipython3",
   "version": "3.9.7"
  }
 },
 "nbformat": 4,
 "nbformat_minor": 5
}
