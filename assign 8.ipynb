{
 "cells": [
  {
   "cell_type": "code",
   "execution_count": null,
   "id": "cd4a4d18",
   "metadata": {},
   "outputs": [],
   "source": [
    "# 1. Is the Python Standard Library included with PyInputPlus?\n",
    "\n",
    " No, PyInputPlus is not  a part of python standard library.its a third party module."
   ]
  },
  {
   "cell_type": "code",
   "execution_count": null,
   "id": "40ccaf0b",
   "metadata": {},
   "outputs": [],
   "source": [
    "# 2. Why is PyInputPlus commonly imported with import pyinputplus as pypi?\n",
    "\n",
    "This optionally makes your code shorter to type: you can type pyip.inputStr() instead of pyinputplus.inputStr()."
   ]
  },
  {
   "cell_type": "code",
   "execution_count": null,
   "id": "b68d0400",
   "metadata": {},
   "outputs": [],
   "source": [
    "# 3. How do you distinguish between inputInt() and inputFloat()?\n",
    "\n",
    "The inputInt() function returns an int value, while the inputFloat() function returns a float value. \n",
    "This is the difference between returning 4 and 4.0."
   ]
  },
  {
   "cell_type": "code",
   "execution_count": null,
   "id": "92e71e1d",
   "metadata": {},
   "outputs": [],
   "source": [
    "# 4. Using PyInputPlus, how do you ensure that the user enters a whole number between 0 and 99?\n",
    "\n",
    "Call pyip.inputint(min=0, max=99)."
   ]
  },
  {
   "cell_type": "code",
   "execution_count": null,
   "id": "f19611b0",
   "metadata": {},
   "outputs": [],
   "source": [
    "# 5. What is transferred to the keyword arguments allowRegexes and blockRegexes?\n",
    "\n",
    "A list of regex strings that are either explicitly allowed or denied."
   ]
  },
  {
   "cell_type": "code",
   "execution_count": null,
   "id": "6ebd83f5",
   "metadata": {},
   "outputs": [],
   "source": [
    "# 6. If a blank input is entered three times, what does inputStr(limit=3) do?\n",
    "\n",
    "A list of regex strings that are either explicitly allowed or denied"
   ]
  },
  {
   "cell_type": "code",
   "execution_count": null,
   "id": "25272ccb",
   "metadata": {},
   "outputs": [],
   "source": [
    "# 7. If blank input is entered three times, what does inputStr(limit=3, default=&#39;hello&#39;) do?\n",
    "\n",
    "The function returns the value 'hello'."
   ]
  }
 ],
 "metadata": {
  "kernelspec": {
   "display_name": "Python 3 (ipykernel)",
   "language": "python",
   "name": "python3"
  },
  "language_info": {
   "codemirror_mode": {
    "name": "ipython",
    "version": 3
   },
   "file_extension": ".py",
   "mimetype": "text/x-python",
   "name": "python",
   "nbconvert_exporter": "python",
   "pygments_lexer": "ipython3",
   "version": "3.9.7"
  }
 },
 "nbformat": 4,
 "nbformat_minor": 5
}
